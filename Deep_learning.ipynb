{
  "cells": [
    {
      "cell_type": "markdown",
      "source": [
        "\n",
        "\n",
        "Code Reference:\n",
        "The VGG16 architecture is refered from \n",
        "https://github.com/sahilsharma884/Music-Genre-Classification\n",
        "\n"
      ],
      "metadata": {
        "id": "PNcEBNhjmuqi"
      },
      "id": "PNcEBNhjmuqi"
    },
    {
      "cell_type": "code",
      "source": [
        "from google.colab import drive\n",
        "drive.mount('/content/drive')"
      ],
      "metadata": {
        "colab": {
          "base_uri": "https://localhost:8080/"
        },
        "id": "MdqV7P1yYlos",
        "outputId": "5d9eddaa-d66a-4fd1-f241-55f4e7e96147"
      },
      "id": "MdqV7P1yYlos",
      "execution_count": 1,
      "outputs": [
        {
          "output_type": "stream",
          "name": "stdout",
          "text": [
            "Mounted at /content/drive\n"
          ]
        }
      ]
    },
    {
      "cell_type": "code",
      "execution_count": 2,
      "id": "6e68a0ad",
      "metadata": {
        "id": "6e68a0ad"
      },
      "outputs": [],
      "source": [
        "import os\n",
        "import librosa\n",
        "import numpy as np\n",
        "import tqdm\n",
        "import matplotlib.pyplot as plt\n",
        "from collections import OrderedDict\n",
        "import itertools\n",
        "\n",
        "np.random.seed(12345)\n",
        "\n",
        "\n",
        "import keras\n",
        "from keras.layers import Conv2D, MaxPooling2D, Dense, Flatten, Dropout, Input, Reshape\n",
        "from keras.regularizers import l1\n",
        "from keras.applications.vgg16 import VGG16\n",
        "from keras.models import Sequential, Model\n",
        "from keras.layers import Dense, Flatten, Dropout, Input, Reshape\n",
        "from keras.regularizers import l1\n",
        "from sklearn.model_selection import train_test_split\n",
        "from keras import utils\n",
        "from keras.utils import np_utils\n",
        "from tensorflow.keras.utils import to_categorical\n",
        "from sklearn.metrics import confusion_matrix\n",
        "import pickle"
      ]
    },
    {
      "cell_type": "code",
      "execution_count": 3,
      "id": "3dfced97",
      "metadata": {
        "id": "3dfced97"
      },
      "outputs": [],
      "source": [
        "label = 0\n",
        "genre = '/content/drive/MyDrive/Data3/genres_original'\n",
        "genrelabel = {}\n",
        "\n",
        "for folder in os.listdir(genre):\n",
        "    if folder =='.DS_Store':\n",
        "      continue\n",
        "    genrelabel[folder] = label\n",
        "    label = label+1"
      ]
    },
    {
      "cell_type": "code",
      "source": [
        "genrelabel"
      ],
      "metadata": {
        "colab": {
          "base_uri": "https://localhost:8080/"
        },
        "id": "c3zzrhjPUiCi",
        "outputId": "9a56c356-2331-4b56-f982-6fdacd3fa4ab"
      },
      "id": "c3zzrhjPUiCi",
      "execution_count": null,
      "outputs": [
        {
          "output_type": "execute_result",
          "data": {
            "text/plain": [
              "{'classical': 0,\n",
              " 'country': 1,\n",
              " 'reggae': 2,\n",
              " 'metal': 3,\n",
              " 'disco': 4,\n",
              " 'hiphop': 5,\n",
              " 'jazz': 6,\n",
              " 'blues': 7,\n",
              " 'pop': 8,\n",
              " 'rock': 9}"
            ]
          },
          "metadata": {},
          "execution_count": 4
        }
      ]
    },
    {
      "cell_type": "code",
      "execution_count": 5,
      "id": "ef310731",
      "metadata": {
        "id": "ef310731",
        "outputId": "01f973e3-f9f8-40ec-9a4c-4feba623c3c2",
        "colab": {
          "base_uri": "https://localhost:8080/"
        }
      },
      "outputs": [
        {
          "output_type": "stream",
          "name": "stderr",
          "text": [
            "100%|██████████| 100/100 [00:00<00:00, 276.00it/s]\n",
            "100%|██████████| 100/100 [00:06<00:00, 16.46it/s]\n",
            "100%|██████████| 100/100 [00:23<00:00,  4.28it/s]\n",
            "100%|██████████| 100/100 [00:08<00:00, 11.35it/s]\n",
            "100%|██████████| 100/100 [00:19<00:00,  5.20it/s]\n",
            "100%|██████████| 100/100 [00:05<00:00, 16.85it/s]\n",
            "100%|██████████| 99/99 [00:31<00:00,  3.13it/s]\n",
            "100%|██████████| 100/100 [00:27<00:00,  3.67it/s]\n",
            "100%|██████████| 100/100 [00:03<00:00, 27.38it/s]\n",
            "100%|██████████| 100/100 [00:05<00:00, 19.55it/s]\n"
          ]
        }
      ],
      "source": [
        "rate = 660000\n",
        "X = []\n",
        "y = []\n",
        "\n",
        "for folder in os.listdir(genre):\n",
        "    if folder =='.DS_Store':\n",
        "      continue\n",
        "    for files in tqdm.tqdm(os.listdir(genre+'/'+folder)):\n",
        "        data, sr = librosa.load(genre+'/'+folder+'/'+files)\n",
        "        data = data[:rate]\n",
        "        X.append(data)\n",
        "        y.append(genrelabel[folder])\n"
      ]
    },
    {
      "cell_type": "code",
      "execution_count": 6,
      "id": "669f3585",
      "metadata": {
        "id": "669f3585"
      },
      "outputs": [],
      "source": [
        "def segment_generation(X,y,window_size = 0.1, overlap = 0.5):\n",
        "    segment_X = []\n",
        "    segment_y = []\n",
        "    \n",
        "    number_of_samples = X.shape[0]\n",
        "    \n",
        "    number_of_windows = int(number_of_samples * window_size)\n",
        "    \n",
        "    number_of_overlaps = int(number_of_windows * overlap)\n",
        "    \n",
        "    i = number_of_samples-number_of_windows + number_of_overlaps\n",
        "    \n",
        "    for j in range(0, i, number_of_overlaps):\n",
        "        segment_X.append(X[j:j + number_of_windows])\n",
        "        segment_y.append(y)\n",
        "        \n",
        "    return np.array(segment_X), np.array(segment_y)\n",
        "\n"
      ]
    },
    {
      "cell_type": "code",
      "execution_count": 7,
      "id": "e9544b1a",
      "metadata": {
        "id": "e9544b1a",
        "outputId": "872f0a37-b475-475d-b01c-90501bd61199",
        "colab": {
          "base_uri": "https://localhost:8080/"
        }
      },
      "outputs": [
        {
          "output_type": "stream",
          "name": "stderr",
          "text": [
            "100%|██████████| 999/999 [00:02<00:00, 339.54it/s]\n"
          ]
        }
      ],
      "source": [
        "X = np.array(X) \n",
        "y = np.array(y) \n",
        "\n",
        "main_segment_X = []\n",
        "main_segment_y = []\n",
        "\n",
        "for j in tqdm.tqdm(range(X.shape[0])):\n",
        "    datax,datay = segment_generation(X[j], y[j])\n",
        "    main_segment_X.append(datax)\n",
        "    main_segment_y.append(datay)\n",
        "\n"
      ]
    },
    {
      "cell_type": "code",
      "execution_count": 8,
      "id": "c3470e2f",
      "metadata": {
        "id": "c3470e2f"
      },
      "outputs": [],
      "source": [
        "#Feature extraction\n",
        "\n",
        "def feature_stft(X):\n",
        "    S = lambda x: librosa.stft(x, n_fft=1024, hop_length=512)[:,:,np.newaxis]\n",
        "    feature = map(S,X)\n",
        "    return np.array(np.abs(list(feature)))\n"
      ]
    },
    {
      "cell_type": "code",
      "execution_count": 9,
      "id": "55308446",
      "metadata": {
        "id": "55308446",
        "outputId": "eb769c27-bfe3-4949-8bca-cbbc31852899",
        "colab": {
          "base_uri": "https://localhost:8080/"
        }
      },
      "outputs": [
        {
          "output_type": "stream",
          "name": "stderr",
          "text": [
            "100%|██████████| 999/999 [00:46<00:00, 21.59it/s]\n"
          ]
        }
      ],
      "source": [
        "\n",
        "X = np.array(main_segment_X)  \n",
        "y = np.array(main_segment_y) \n",
        "\n",
        "features_X = []\n",
        "features_y = []\n",
        "\n",
        "for j in tqdm.tqdm(range(0,X.shape[0])):\n",
        "    features_X.extend(feature_stft(X[j]))\n",
        "    features_y.extend(y[j])\n",
        "\n"
      ]
    },
    {
      "cell_type": "code",
      "execution_count": null,
      "id": "4b96a31d",
      "metadata": {
        "id": "4b96a31d"
      },
      "outputs": [],
      "source": [
        ""
      ]
    },
    {
      "cell_type": "code",
      "execution_count": 10,
      "id": "4ce02d21",
      "metadata": {
        "id": "4ce02d21",
        "colab": {
          "base_uri": "https://localhost:8080/"
        },
        "outputId": "1367eb1c-dddc-4f50-d26c-b5d482d36583"
      },
      "outputs": [
        {
          "output_type": "stream",
          "name": "stdout",
          "text": [
            "Model: \"model\"\n",
            "_________________________________________________________________\n",
            " Layer (type)                Output Shape              Param #   \n",
            "=================================================================\n",
            " input_1 (InputLayer)        [(None, 513, 129, 3)]     0         \n",
            "                                                                 \n",
            " block1_conv1 (Conv2D)       (None, 513, 129, 64)      1792      \n",
            "                                                                 \n",
            " block1_conv2 (Conv2D)       (None, 513, 129, 64)      36928     \n",
            "                                                                 \n",
            " block1_pool (MaxPooling2D)  (None, 256, 64, 64)       0         \n",
            "                                                                 \n",
            " block2_conv1 (Conv2D)       (None, 256, 64, 128)      73856     \n",
            "                                                                 \n",
            " block2_conv2 (Conv2D)       (None, 256, 64, 128)      147584    \n",
            "                                                                 \n",
            " block2_pool (MaxPooling2D)  (None, 128, 32, 128)      0         \n",
            "                                                                 \n",
            " block3_conv1 (Conv2D)       (None, 128, 32, 256)      295168    \n",
            "                                                                 \n",
            " block3_conv2 (Conv2D)       (None, 128, 32, 256)      590080    \n",
            "                                                                 \n",
            " block3_conv3 (Conv2D)       (None, 128, 32, 256)      590080    \n",
            "                                                                 \n",
            " block3_pool (MaxPooling2D)  (None, 64, 16, 256)       0         \n",
            "                                                                 \n",
            " block4_conv1 (Conv2D)       (None, 64, 16, 512)       1180160   \n",
            "                                                                 \n",
            " block4_conv2 (Conv2D)       (None, 64, 16, 512)       2359808   \n",
            "                                                                 \n",
            " block4_conv3 (Conv2D)       (None, 64, 16, 512)       2359808   \n",
            "                                                                 \n",
            " block4_pool (MaxPooling2D)  (None, 32, 8, 512)        0         \n",
            "                                                                 \n",
            " block5_conv1 (Conv2D)       (None, 32, 8, 512)        2359808   \n",
            "                                                                 \n",
            " block5_conv2 (Conv2D)       (None, 32, 8, 512)        2359808   \n",
            "                                                                 \n",
            " block5_conv3 (Conv2D)       (None, 32, 8, 512)        2359808   \n",
            "                                                                 \n",
            " block5_pool (MaxPooling2D)  (None, 16, 4, 512)        0         \n",
            "                                                                 \n",
            " sequential (Sequential)     (None, 10)                1048938   \n",
            "                                                                 \n",
            "=================================================================\n",
            "Total params: 15,763,626\n",
            "Trainable params: 15,651,050\n",
            "Non-trainable params: 112,576\n",
            "_________________________________________________________________\n",
            "Epoch 1/10\n",
            "214/214 [==============================] - 2240s 10s/step - loss: 2.3595 - accuracy: 0.2981 - val_loss: 1.5449 - val_accuracy: 0.4213\n",
            "Epoch 2/10\n",
            "214/214 [==============================] - 2249s 11s/step - loss: 1.3759 - accuracy: 0.4999 - val_loss: 1.1850 - val_accuracy: 0.5820\n",
            "Epoch 3/10\n",
            "214/214 [==============================] - 2133s 10s/step - loss: 1.0814 - accuracy: 0.6211 - val_loss: 0.9807 - val_accuracy: 0.6675\n",
            "Epoch 4/10\n",
            "214/214 [==============================] - 2133s 10s/step - loss: 0.9193 - accuracy: 0.6813 - val_loss: 0.8368 - val_accuracy: 0.7077\n",
            "Epoch 5/10\n",
            "214/214 [==============================] - 2145s 10s/step - loss: 0.7484 - accuracy: 0.7444 - val_loss: 0.7024 - val_accuracy: 0.7696\n",
            "Epoch 6/10\n",
            "214/214 [==============================] - 2142s 10s/step - loss: 0.6351 - accuracy: 0.7850 - val_loss: 0.7159 - val_accuracy: 0.7597\n",
            "Epoch 7/10\n",
            "214/214 [==============================] - 2156s 10s/step - loss: 0.5397 - accuracy: 0.8166 - val_loss: 0.5085 - val_accuracy: 0.8269\n",
            "Epoch 8/10\n",
            "214/214 [==============================] - 2155s 10s/step - loss: 0.4540 - accuracy: 0.8429 - val_loss: 0.5592 - val_accuracy: 0.8097\n",
            "Epoch 9/10\n",
            "214/214 [==============================] - 2161s 10s/step - loss: 0.3964 - accuracy: 0.8645 - val_loss: 0.5039 - val_accuracy: 0.8381\n",
            "Epoch 10/10\n",
            "214/214 [==============================] - 2187s 10s/step - loss: 0.3251 - accuracy: 0.8882 - val_loss: 0.4713 - val_accuracy: 0.8460\n",
            "Test_loss = 0.499, Test_accuracy = 0.837\n"
          ]
        }
      ],
      "source": [
        "import tensorflow as tf\n",
        "#Now lets split the data into train, validation and test\n",
        "\n",
        "X = np.array(features_X) \n",
        "y = np.array(features_y) \n",
        "\n",
        "y = utils.np_utils.to_categorical(y)\n",
        "\n",
        "X_train, X_test, y_train, y_test = train_test_split(X,y, random_state=42, test_size = 0.2, stratify = y)\n",
        "X_train, X_val, y_train,y_val = train_test_split(X_train,y_train, random_state=42, test_size = 0.1, stratify = y_train)\n",
        "\n",
        "\n",
        "#Reshaping the data so that we can fit it to our deep learning models\n",
        "\n",
        "X_train = np.squeeze(np.stack((X_train,) * 3, -1))\n",
        "X_test = np.squeeze(np.stack((X_test,) * 3, -1))\n",
        "X_val = np.squeeze(np.stack((X_val,) * 3, -1))\n",
        "\n",
        "\n",
        "number_of_genres = 10\n",
        "input_shape = X_train[0].shape\n",
        "freezed_layers = 5\n",
        "\n",
        "input_tensor = Input(shape = input_shape)\n",
        "\n",
        "W = VGG16(include_top = False, weights = None, input_tensor=input_tensor)\n",
        "top = Sequential()\n",
        "top.add(Flatten(input_shape = W.output_shape[1:]))\n",
        "top.add(Dense(32,activation='relu'))\n",
        "top.add(Dense(number_of_genres,activation='softmax'))\n",
        "\n",
        "model = Model(inputs=W.input,outputs=top(W.output))\n",
        "\n",
        "for layer in model.layers[:freezed_layers]:\n",
        "    layer.trainable = False\n",
        "    \n",
        "model.summary()\n",
        "model.compile(loss=keras.losses.categorical_crossentropy,optimizer=tf.keras.optimizers.Adam(),metrics=['accuracy'])\n",
        "\n",
        "histogram = model.fit(X_train,y_train,batch_size=64,epochs=10,validation_data=(X_val,y_val))\n",
        "\n",
        "with open('VGG16.pickle','wb') as f:\n",
        "    pickle.dump(histogram.history, f)\n",
        "    \n",
        "model.save('VGG16.h5')\n",
        "\n",
        "score = model.evaluate(X_test,y_test,verbose = 0)\n",
        "print(\"Test_loss = {:.3f}, Test_accuracy = {:.3f}\".format(score[0],score[1]))"
      ]
    },
    {
      "cell_type": "code",
      "source": [
        "history_dict = histogram.history\n",
        "print(history_dict.keys())"
      ],
      "metadata": {
        "colab": {
          "base_uri": "https://localhost:8080/"
        },
        "id": "i92WHAHf9dK5",
        "outputId": "9fd0c2e7-4afe-491a-8ada-db178236be54"
      },
      "id": "i92WHAHf9dK5",
      "execution_count": 12,
      "outputs": [
        {
          "output_type": "stream",
          "name": "stdout",
          "text": [
            "dict_keys(['loss', 'accuracy', 'val_loss', 'val_accuracy'])\n"
          ]
        }
      ]
    },
    {
      "cell_type": "code",
      "source": [
        "plt.figure(figsize=(15,7))\n",
        "\n",
        "plt.subplot(1,2,1)\n",
        "plt.plot(histogram.history['accuracy'], label='Train')\n",
        "plt.plot(histogram.history['val_accuracy'], label='validation')\n",
        "plt.title('Accuracy')\n",
        "plt.xlabel('Epoch')\n",
        "plt.ylabel('Accuracy')\n",
        "plt.legend()\n",
        "\n",
        "plt.show()\n",
        "\n",
        "plt.figure(figsize=(15,7))\n",
        "\n",
        "plt.subplot(1,2,1)\n",
        "plt.plot(histogram.history['loss'], label='Train')\n",
        "plt.plot(histogram.history['val_loss'], label='validation')\n",
        "plt.title('Loss')\n",
        "plt.xlabel('Epoch')\n",
        "plt.ylabel('Loss')\n",
        "plt.legend()\n",
        "\n",
        "plt.show()"
      ],
      "metadata": {
        "colab": {
          "base_uri": "https://localhost:8080/",
          "height": 899
        },
        "id": "_BROTqo-Nx-A",
        "outputId": "ccb1bcda-8235-47cc-f670-61a077341773"
      },
      "id": "_BROTqo-Nx-A",
      "execution_count": 28,
      "outputs": [
        {
          "output_type": "display_data",
          "data": {
            "text/plain": [
              "<Figure size 1080x504 with 1 Axes>"
            ],
            "image/png": "[encoded data removed]"
          },
          "metadata": {
            "needs_background": "light"
          }
        },
        {
          "output_type": "display_data",
          "data": {
            "text/plain": [
              "<Figure size 1080x504 with 1 Axes>"
            ],
            "image/png": "[encoded data removed]"
          },
          "metadata": {
            "needs_background": "light"
          }
        }
      ]
    },
    {
      "cell_type": "code",
      "execution_count": 45,
      "id": "0ca18920",
      "metadata": {
        "id": "0ca18920",
        "colab": {
          "base_uri": "https://localhost:8080/",
          "height": 835
        },
        "outputId": "906acfde-c384-4e57-e6eb-8b4222ee54c2"
      },
      "outputs": [
        {
          "output_type": "stream",
          "name": "stdout",
          "text": [
            "119/119 [==============================] - 149s 1s/step\n",
            "(3797,)\n",
            "(3797,)\n",
            "[[331   0   0   0   2   0   5   0   3   3]\n",
            " [  5 256   4   1   2   0  11   7  11  29]\n",
            " [  1   8 291   0   2   4   3   3   4   8]\n",
            " [  0   0   0 349   4   3   0   1   0  34]\n",
            " [  2   6   7   3 338   1   7   6  14   7]\n",
            " [  0   0  34   2  11 358   0   8   8   2]\n",
            " [ 37  33   1   0   0   1 324   9   4   9]\n",
            " [  0  22   2   9   2   3  20 337   0  16]\n",
            " [  0   7  28   0  13   6   0   0 324   3]\n",
            " [  4  48  13  16   6   4   7   9  12 269]]\n",
            "Normalized confusion matrix\n"
          ]
        },
        {
          "output_type": "display_data",
          "data": {
            "text/plain": [
              "<Figure size 576x576 with 2 Axes>"
            ],
            "image/png": "[encoded data removed]"
          },
          "metadata": {
            "needs_background": "light"
          }
        }
      ],
      "source": [
        "#Now let's plot the results\n",
        "from sklearn.metrics import confusion_matrix\n",
        "def plot_confusion_matrix(cm,keys, cmap=plt.cm.Blues, normalize=True, title='Confusion Matrix'):\n",
        "  print(cm)\n",
        "  if normalize:\n",
        "        cm = cm.astype('float') / cm.sum(axis=1)[:, np.newaxis]\n",
        "        print(\"Normalized confusion matrix\")\n",
        "  else:\n",
        "        print('Confusion matrix, without normalization')\n",
        "  \n",
        "  \n",
        "  plt.imshow(cm, interpolation='nearest', cmap=cmap)\n",
        "  plt.title('Confusion Matrix')\n",
        "  plt.colorbar()\n",
        "  tick_marks = np.arange(len(keys))\n",
        "  plt.xticks(tick_marks, keys, rotation=45)\n",
        "  plt.yticks(tick_marks, keys)\n",
        "\n",
        "  fmt = '.2f' if normalize else 'd'\n",
        "  thresh = cm.max() / 2.\n",
        "  for i, j in itertools.product(range(cm.shape[0]), range(cm.shape[1])):\n",
        "      plt.text(j, i, format(cm[i, j], fmt),\n",
        "                horizontalalignment=\"center\",\n",
        "                color=\"white\" if cm[i, j] > thresh else \"black\")\n",
        "\n",
        "  plt.tight_layout()\n",
        "  plt.ylabel('True label')\n",
        "  plt.xlabel('Predicted label')\n",
        "\n",
        "\n",
        "\n",
        "\n",
        "predicted = np.argmax(model.predict(X_test), axis=1)\n",
        "true = np.argmax(y_test, axis=1)\n",
        "print(true.shape)\n",
        "print(predicted.shape)\n",
        "cm = confusion_matrix(predicted, true)\n",
        "\n",
        "\n",
        "genres = {'pop': 0,\n",
        " 'metal': 1,\n",
        " 'disco': 2,\n",
        " 'blues': 3,\n",
        " 'reggae': 4,\n",
        " 'classical': 5,\n",
        " 'rock': 6,\n",
        " 'hiphop': 7,\n",
        " 'country': 8,\n",
        " 'jazz': 9}\n",
        "\n",
        "keys=OrderedDict(sorted(genres.items(),key=lambda t:t[1])).keys()\n",
        "#print(keys.shape)\n",
        "\n",
        "plt.figure(figsize=(8,8))\n",
        "plot_confusion_matrix(cm,keys,normalize=True)\n",
        "plt.show()"
      ]
    },
    {
      "cell_type": "markdown",
      "id": "90cce7d1",
      "metadata": {
        "id": "90cce7d1"
      },
      "source": [
        "Reference:\n",
        "The VGG16 architecture is refered from \n",
        "https://github.com/sahilsharma884/Music-Genre-Classification"
      ]
    },
    {
      "cell_type": "code",
      "execution_count": null,
      "id": "fd99a715",
      "metadata": {
        "id": "fd99a715"
      },
      "outputs": [],
      "source": [
        ""
      ]
    }
  ],
  "metadata": {
    "kernelspec": {
      "display_name": "Python 3",
      "language": "python",
      "name": "python3"
    },
    "language_info": {
      "codemirror_mode": {
        "name": "ipython",
        "version": 3
      },
      "file_extension": ".py",
      "mimetype": "text/x-python",
      "name": "python",
      "nbconvert_exporter": "python",
      "pygments_lexer": "ipython3",
      "version": "3.8.8"
    },
    "colab": {
      "name": "NEW.ipynb",
      "provenance": [],
      "collapsed_sections": [],
      "machine_shape": "hm"
    },
    "gpuClass": "standard",
    "accelerator": "TPU"
  },
  "nbformat": 4,
  "nbformat_minor": 5
}